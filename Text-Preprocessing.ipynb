{
 "cells": [
  {
   "cell_type": "code",
   "execution_count": 2,
   "id": "bece53d5",
   "metadata": {},
   "outputs": [],
   "source": [
    "import os\n",
    "import pandas as pd"
   ]
  },
  {
   "cell_type": "markdown",
   "id": "b608d0aa",
   "metadata": {},
   "source": [
    "# Introduction\n",
    "\n",
    "The goal of this notebook is to *practice text preprocessing and cleaning*\n",
    "\n",
    "\n",
    "You're part of a team in Twitter that's assigned to create a sentiment analysis model for tweets in Arabic, your task is to prepare the data for training a model to classify wether the tweet has *positive* or *negative* sentiment\n",
    "\n",
    "In this task, you need to remove or keep parts of the tweet so that the remaining text is **relevant** to the task at hand \n",
    "\n",
    "### What are the possbile parts to remove or keep?\n",
    "\n",
    "1. Hashtags\n",
    "2. Mentions\n",
    "3. Emojis\n",
    "4. URLs\n",
    "5. Numbers\n",
    "6. English characters\n",
    "\n",
    "\n",
    "### Steps\n",
    "In this notebook we should:\n",
    "\n",
    "1. Read the raw data\n",
    "2. Define functions for cleaning\n",
    "3. Define a pipeline\n",
    "3. Store the data\n",
    "\n",
    "## The Dataset\n",
    "\n",
    "The dataset for this project can be originally found on [Kaggle](https://www.kaggle.com/datasets/mksaad/arabic-sentiment-twitter-corpus)\n",
    "\n",
    "Although for the sake of this project, we'll be using a reorganised version of the dataset that can be [downloaded from here](https://shai-nlp-course.netlify.app/arabic-tweet-sentiment.zip)"
   ]
  },
  {
   "cell_type": "markdown",
   "id": "d586041b",
   "metadata": {},
   "source": [
    "# Setup"
   ]
  },
  {
   "cell_type": "markdown",
   "id": "469c5257",
   "metadata": {},
   "source": [
    "## Load Raw Data\n",
    "\n",
    "First make sure you have downloaded the raw dataset:\n",
    "\n",
    "1. Follow this [link](https://shai-nlp-course.netlify.app/arabic-tweet-sentiment.zip)\n",
    "2. Install the dataset, and unzip it in the `data` directory \n"
   ]
  },
  {
   "cell_type": "code",
   "execution_count": 4,
   "id": "a953b1de",
   "metadata": {},
   "outputs": [
    {
     "data": {
      "text/plain": [
       "['README.md', 'train.tsv', 'test.tsv']"
      ]
     },
     "execution_count": 4,
     "metadata": {},
     "output_type": "execute_result"
    }
   ],
   "source": [
    "data_dir = os.path.join(os.curdir, \"data\", \"arabic-tweets-sentiment-data\")\n",
    "os.listdir(data_dir)"
   ]
  },
  {
   "cell_type": "code",
   "execution_count": 30,
   "id": "eaabe2ac",
   "metadata": {},
   "outputs": [],
   "source": [
    "raw = pd.read_csv(filepath_or_buffer=os.path.join(data_dir, \"train.tsv\"), sep=\"\\t\", names=[\"label\", \"tweet\"], \n",
    "                  encoding=\"utf_8\")"
   ]
  },
  {
   "cell_type": "code",
   "execution_count": 31,
   "id": "e0a05c85",
   "metadata": {},
   "outputs": [
    {
     "data": {
      "text/html": [
       "<div>\n",
       "<style scoped>\n",
       "    .dataframe tbody tr th:only-of-type {\n",
       "        vertical-align: middle;\n",
       "    }\n",
       "\n",
       "    .dataframe tbody tr th {\n",
       "        vertical-align: top;\n",
       "    }\n",
       "\n",
       "    .dataframe thead th {\n",
       "        text-align: right;\n",
       "    }\n",
       "</style>\n",
       "<table border=\"1\" class=\"dataframe\">\n",
       "  <thead>\n",
       "    <tr style=\"text-align: right;\">\n",
       "      <th></th>\n",
       "      <th>label</th>\n",
       "      <th>tweet</th>\n",
       "    </tr>\n",
       "  </thead>\n",
       "  <tbody>\n",
       "    <tr>\n",
       "      <th>0</th>\n",
       "      <td>pos</td>\n",
       "      <td>لا تتوقعي مني أن أكون مهذبا أو لبقا حينما أغار...</td>\n",
       "    </tr>\n",
       "    <tr>\n",
       "      <th>1</th>\n",
       "      <td>neg</td>\n",
       "      <td>يا الله ❤️</td>\n",
       "    </tr>\n",
       "    <tr>\n",
       "      <th>2</th>\n",
       "      <td>neg</td>\n",
       "      <td>#ليلة_جمعه اللهم صل وسلم عليه � #الوتر #تصبحون...</td>\n",
       "    </tr>\n",
       "    <tr>\n",
       "      <th>3</th>\n",
       "      <td>pos</td>\n",
       "      <td>المفروض استحي ع دمي وانام بما انه في عمال جايي...</td>\n",
       "    </tr>\n",
       "    <tr>\n",
       "      <th>4</th>\n",
       "      <td>pos</td>\n",
       "      <td>في هذا الصباح � ادعو الله يجعل صباحي و صباحكم ...</td>\n",
       "    </tr>\n",
       "    <tr>\n",
       "      <th>...</th>\n",
       "      <td>...</td>\n",
       "      <td>...</td>\n",
       "    </tr>\n",
       "    <tr>\n",
       "      <th>90400</th>\n",
       "      <td>neg</td>\n",
       "      <td>رئيسين في يومين قالو الربيع العربي � نحنا الكت...</td>\n",
       "    </tr>\n",
       "    <tr>\n",
       "      <th>90401</th>\n",
       "      <td>pos</td>\n",
       "      <td>أصبحنا وأصبح الملك لله والحمد لله، لا إله إلا ...</td>\n",
       "    </tr>\n",
       "    <tr>\n",
       "      <th>90402</th>\n",
       "      <td>neg</td>\n",
       "      <td>يا اخوانا و الله لسة مطالبنا ما أتحقق منها غير...</td>\n",
       "    </tr>\n",
       "    <tr>\n",
       "      <th>90403</th>\n",
       "      <td>pos</td>\n",
       "      <td>السحب الليلة على الايفون .. رتويت للمرفقة وطبق...</td>\n",
       "    </tr>\n",
       "    <tr>\n",
       "      <th>90404</th>\n",
       "      <td>pos</td>\n",
       "      <td>بمناسبة فوز الهلال .. � سحب على آيفون XR� رتوي...</td>\n",
       "    </tr>\n",
       "  </tbody>\n",
       "</table>\n",
       "<p>90405 rows × 2 columns</p>\n",
       "</div>"
      ],
      "text/plain": [
       "      label                                              tweet\n",
       "0       pos  لا تتوقعي مني أن أكون مهذبا أو لبقا حينما أغار...\n",
       "1       neg                                         يا الله ❤️\n",
       "2       neg  #ليلة_جمعه اللهم صل وسلم عليه � #الوتر #تصبحون...\n",
       "3       pos  المفروض استحي ع دمي وانام بما انه في عمال جايي...\n",
       "4       pos  في هذا الصباح � ادعو الله يجعل صباحي و صباحكم ...\n",
       "...     ...                                                ...\n",
       "90400   neg  رئيسين في يومين قالو الربيع العربي � نحنا الكت...\n",
       "90401   pos  أصبحنا وأصبح الملك لله والحمد لله، لا إله إلا ...\n",
       "90402   neg  يا اخوانا و الله لسة مطالبنا ما أتحقق منها غير...\n",
       "90403   pos  السحب الليلة على الايفون .. رتويت للمرفقة وطبق...\n",
       "90404   pos  بمناسبة فوز الهلال .. � سحب على آيفون XR� رتوي...\n",
       "\n",
       "[90405 rows x 2 columns]"
      ]
     },
     "execution_count": 31,
     "metadata": {},
     "output_type": "execute_result"
    }
   ],
   "source": [
    "raw"
   ]
  },
  {
   "cell_type": "markdown",
   "id": "584efb98",
   "metadata": {},
   "source": [
    "# Explaratory Data Analysis (EDA)"
   ]
  },
  {
   "cell_type": "markdown",
   "id": "3c718502",
   "metadata": {},
   "source": [
    "## View Samples"
   ]
  },
  {
   "cell_type": "code",
   "execution_count": 41,
   "id": "19df8bc4",
   "metadata": {},
   "outputs": [
    {
     "name": "stdout",
     "output_type": "stream",
     "text": [
      "الحمد لله .. كانت مباراه صعبه ولكن بتوفيق الله ثم دعمكم تجاوزنا المباراه � \t pos \n",
      " -----------------------------\n",
      "أحضر صوتنا #ری_استارت إلى العالم «الملک یبقی مع الکفر و لا یبقی مع الظلم» #الله… \t pos \n",
      " -----------------------------\n",
      "وأنت حاول تهدأ أشوفك متوتر كثير ما فيه فتنه ولا شي زي ما شجعتم الأهلي البارح أكيد بنشجع الإتي حال… \t pos \n",
      " -----------------------------\n",
      "بحياتي ما سويت ستريم صادق كذا حتى في دورة المياه اسوي � \t neg \n",
      " -----------------------------\n",
      "صباح الخير � ويكندنا مع مرضانا �� \t pos \n",
      " -----------------------------\n",
      "❥❥ هي ذلك الجبل الذي أسند عليه نفسي عند الشدائد ❤️ هي الشريان الذي يوصل الدم الى قلبي اختي حبيبتي فقيدة قلبي موتك… \t neg \n",
      " -----------------------------\n",
      "كن ك نبتة أزهرت رغم الحطام ! �� كن ك ضوء يخترق الزحام � كن روحآ تحب وتهدي الحب لكل الآنام��… \t pos \n",
      " -----------------------------\n",
      "قصدي معلش البطن وين تندري انه هو صبح � \t neg \n",
      " -----------------------------\n",
      "انت بدون تحكيم صغير � \t pos \n",
      " -----------------------------\n",
      "ماادري متى انام زي الناس واشبع نوم � \t neg \n",
      " -----------------------------\n"
     ]
    }
   ],
   "source": [
    "for i in range(90, 100):\n",
    "    label, tweet = raw.loc[i, \"label\"], raw.loc[i, \"tweet\"] \n",
    "    print(tweet., \"\\t\", label, \"\\n\", \"-----------------------------\")"
   ]
  },
  {
   "cell_type": "code",
   "execution_count": null,
   "id": "2b3701d9",
   "metadata": {},
   "outputs": [],
   "source": []
  }
 ],
 "metadata": {
  "kernelspec": {
   "display_name": "Python 3 (ipykernel)",
   "language": "python",
   "name": "python3"
  },
  "language_info": {
   "codemirror_mode": {
    "name": "ipython",
    "version": 3
   },
   "file_extension": ".py",
   "mimetype": "text/x-python",
   "name": "python",
   "nbconvert_exporter": "python",
   "pygments_lexer": "ipython3",
   "version": "3.10.4"
  }
 },
 "nbformat": 4,
 "nbformat_minor": 5
}
